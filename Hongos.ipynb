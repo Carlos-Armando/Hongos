{
  "nbformat": 4,
  "nbformat_minor": 0,
  "metadata": {
    "colab": {
      "name": "Untitled3.ipynb",
      "provenance": [],
      "include_colab_link": true
    },
    "kernelspec": {
      "name": "python3",
      "display_name": "Python 3"
    },
    "language_info": {
      "name": "python"
    }
  },
  "cells": [
    {
      "cell_type": "markdown",
      "metadata": {
        "id": "view-in-github",
        "colab_type": "text"
      },
      "source": [
        "<a href=\"https://colab.research.google.com/github/Carlos-Armando/Hongos/blob/main/Hongos.ipynb\" target=\"_parent\"><img src=\"https://colab.research.google.com/assets/colab-badge.svg\" alt=\"Open In Colab\"/></a>"
      ]
    },
    {
      "cell_type": "code",
      "execution_count": null,
      "metadata": {
        "id": "LETGKFloe57n"
      },
      "outputs": [],
      "source": [
        ""
      ]
    },
    {
      "cell_type": "markdown",
      "source": [
        "Calro Armando De Jesus Cabrera\n",
        "\n",
        "Tic 91\n",
        "\n",
        "Extraccion De Conocimientos"
      ],
      "metadata": {
        "id": "Fzuc5sf8TwSi"
      }
    },
    {
      "cell_type": "markdown",
      "source": [
        "Importar Librerias"
      ],
      "metadata": {
        "id": "Jx7RX2DZT6Eq"
      }
    },
    {
      "cell_type": "code",
      "source": [
        "import numpy as np\n",
        "import pandas as pd\n",
        "#librerias para crear graficos\n",
        "import matplotlib.pyplot as plt\n",
        "import seaborn as sns\n",
        "#Asignar estilo a graficos de seaborns\n",
        "sns.set_theme(style=\"darkgrid\", palette=\"Spectral\")\n",
        "\n",
        "#libreria para convertir feautes a labels\n",
        "from sklearn.preprocessing import OrdinalEncoder \n",
        "from sklearn.neighbors import KNeighborsClassifier\n",
        "from sklearn.model_selection import cross_val_score\n",
        "from sklearn.model_selection import train_test_split\n",
        "\n",
        "from sklearn.metrics import accuracy_score\n",
        "from sklearn.metrics import classification_report\n",
        "from sklearn.metrics import confusion_matrix"
      ],
      "metadata": {
        "id": "SyyYtlPxUAv5"
      },
      "execution_count": 1,
      "outputs": []
    },
    {
      "cell_type": "markdown",
      "source": [
        "Cargar Datos Del archivo"
      ],
      "metadata": {
        "id": "MTA85WoTUITW"
      }
    },
    {
      "cell_type": "code",
      "source": [
        "df= od.rrad_csv('mushrossms.csv')"
      ],
      "metadata": {
        "id": "BDX6JyVtUQh1"
      },
      "execution_count": null,
      "outputs": []
    },
    {
      "cell_type": "markdown",
      "source": [
        "Mostrar Forma Del Dataframe"
      ],
      "metadata": {
        "id": "RkW5iHpcUfRk"
      }
    },
    {
      "cell_type": "code",
      "source": [
        "df.shape"
      ],
      "metadata": {
        "id": "0jMLvXtmUixR"
      },
      "execution_count": null,
      "outputs": []
    },
    {
      "cell_type": "markdown",
      "source": [
        "Mostrar Los Primeros 5 Registros"
      ],
      "metadata": {
        "id": "HqnqhGVyUlB8"
      }
    },
    {
      "cell_type": "code",
      "source": [
        "df.head()"
      ],
      "metadata": {
        "id": "JwjcD4--Uo4a"
      },
      "execution_count": null,
      "outputs": []
    },
    {
      "cell_type": "markdown",
      "source": [
        "Mostrar Los Ultimos 5 registros"
      ],
      "metadata": {
        "id": "c9LLFjnEUsMJ"
      }
    },
    {
      "cell_type": "code",
      "source": [
        "df.tail()"
      ],
      "metadata": {
        "id": "SYkCx4TzUu2-"
      },
      "execution_count": null,
      "outputs": []
    },
    {
      "cell_type": "markdown",
      "source": [
        "Clasificacion de Hongos"
      ],
      "metadata": {
        "id": "ECLAHcJ5U2lG"
      }
    },
    {
      "cell_type": "code",
      "source": [
        "def uniqueData(dataframe, col):\n",
        "  # Obtener todos los valores unicos en la columna\n",
        "  lista_unica = df[col].unique()\n",
        "\n",
        "  # Ordenar alfabeticamente y mostrar datos\n",
        "  lista_unica.sort()\n",
        "  print(\"Columna: \", col)\n",
        "  print(\"No. columnas unicas: \", lista_unica.size)\n",
        "  print(\"Valores unicos: \", lista_unica)"
      ],
      "metadata": {
        "id": "CGM-fU6eVXZL"
      },
      "execution_count": null,
      "outputs": []
    },
    {
      "cell_type": "markdown",
      "source": [
        "Mostrar Valores Unicos De cada columna"
      ],
      "metadata": {
        "id": "C3yd657dV0w4"
      }
    },
    {
      "cell_type": "code",
      "source": [
        "for i in (df):\n",
        "   uniqueData(df, i)"
      ],
      "metadata": {
        "id": "1fGfSnrUV5Bp"
      },
      "execution_count": null,
      "outputs": []
    },
    {
      "cell_type": "markdown",
      "source": [
        "Convertir  Columnas en tipo categorico"
      ],
      "metadata": {
        "id": "z7ui0RJtWrXM"
      }
    },
    {
      "cell_type": "code",
      "source": [
        "columns = df.columns\n",
        "df[columns] = df[columns].astype('category')"
      ],
      "metadata": {
        "id": "TxrPl034Wvoy"
      },
      "execution_count": null,
      "outputs": []
    },
    {
      "cell_type": "markdown",
      "source": [
        "Verificar Cambios"
      ],
      "metadata": {
        "id": "7Qff6DFyWy98"
      }
    },
    {
      "cell_type": "code",
      "source": [
        "df.info()"
      ],
      "metadata": {
        "id": "tKXo3wTfW1Y4"
      },
      "execution_count": null,
      "outputs": []
    },
    {
      "cell_type": "markdown",
      "source": [
        "Transformar Columnas categoricas a numericas"
      ],
      "metadata": {
        "id": "WXUIHdQRW8lM"
      }
    },
    {
      "cell_type": "code",
      "source": [
        "encoder = OrdinalEncoder()\n",
        "encoder.fit(df[columns])\n",
        "df[columns] = encoder.transform(df[columns])"
      ],
      "metadata": {
        "id": "3yDUx6nYXA7k"
      },
      "execution_count": null,
      "outputs": []
    },
    {
      "cell_type": "markdown",
      "source": [
        "Verificar cambios"
      ],
      "metadata": {
        "id": "9mq4hE44XDVf"
      }
    },
    {
      "cell_type": "code",
      "source": [
        "df.info()"
      ],
      "metadata": {
        "id": "k5jUT90DXG36"
      },
      "execution_count": null,
      "outputs": []
    }
  ]
}